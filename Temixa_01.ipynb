{
  "nbformat": 4,
  "nbformat_minor": 0,
  "metadata": {
    "colab": {
      "provenance": [],
      "authorship_tag": "ABX9TyPnD3YhiCSXX9O4cJj2p0rT",
      "include_colab_link": true
    },
    "kernelspec": {
      "name": "python3",
      "display_name": "Python 3"
    },
    "language_info": {
      "name": "python"
    }
  },
  "cells": [
    {
      "cell_type": "markdown",
      "metadata": {
        "id": "view-in-github",
        "colab_type": "text"
      },
      "source": [
        "<a href=\"https://colab.research.google.com/github/ulisesrc/temixaPython-R/blob/main/Temixa_01.ipynb\" target=\"_parent\"><img src=\"https://colab.research.google.com/assets/colab-badge.svg\" alt=\"Open In Colab\"/></a>"
      ]
    },
    {
      "cell_type": "markdown",
      "source": [
        "# Python"
      ],
      "metadata": {
        "id": "LYCiqzEIp_7h"
      }
    },
    {
      "cell_type": "markdown",
      "source": [
        "[python.org](https://www.python.org)"
      ],
      "metadata": {
        "id": "RY5afNm6qMdI"
      }
    },
    {
      "cell_type": "markdown",
      "source": [
        "Documentacion python en español: [docs.python.org/es/3/](https://docs.python.org/es/3/)"
      ],
      "metadata": {
        "id": "CLHeP20xqh9t"
      }
    },
    {
      "cell_type": "markdown",
      "source": [
        "## Primeras instrucciones Python"
      ],
      "metadata": {
        "id": "FvJWWg15tYGx"
      }
    },
    {
      "cell_type": "code",
      "source": [
        "!python --version"
      ],
      "metadata": {
        "colab": {
          "base_uri": "https://localhost:8080/"
        },
        "id": "vzfBZqsntifc",
        "outputId": "eb5653bc-3889-4039-d552-e7688e15c125"
      },
      "execution_count": 1,
      "outputs": [
        {
          "output_type": "stream",
          "name": "stdout",
          "text": [
            "Python 3.10.12\n"
          ]
        }
      ]
    },
    {
      "cell_type": "code",
      "source": [
        "saludos= \"¡Hola!\""
      ],
      "metadata": {
        "id": "fX-aSs2ntpFf"
      },
      "execution_count": 3,
      "outputs": []
    },
    {
      "cell_type": "code",
      "source": [
        "print (saludos)"
      ],
      "metadata": {
        "colab": {
          "base_uri": "https://localhost:8080/"
        },
        "id": "hc8Q0HBvuR6-",
        "outputId": "5eb6f092-a7d1-4d41-98ca-eb0b450af84a"
      },
      "execution_count": 6,
      "outputs": [
        {
          "output_type": "stream",
          "name": "stdout",
          "text": [
            "¡Hola!\n"
          ]
        }
      ]
    },
    {
      "cell_type": "code",
      "source": [],
      "metadata": {
        "id": "rumfxOWKubuG"
      },
      "execution_count": null,
      "outputs": []
    },
    {
      "cell_type": "markdown",
      "source": [
        "Palabras Reservadas"
      ],
      "metadata": {
        "id": "OKvRcHp2uubo"
      }
    },
    {
      "cell_type": "code",
      "source": [
        "import keyword #importamos libreria"
      ],
      "metadata": {
        "id": "0CVJNaHHuzlD"
      },
      "execution_count": 9,
      "outputs": []
    },
    {
      "cell_type": "code",
      "source": [
        "print(keyword.kwlist)"
      ],
      "metadata": {
        "colab": {
          "base_uri": "https://localhost:8080/"
        },
        "id": "YeK5US0xu4aW",
        "outputId": "f0e667fa-1155-418d-cf1f-bd5db479a5b4"
      },
      "execution_count": 10,
      "outputs": [
        {
          "output_type": "stream",
          "name": "stdout",
          "text": [
            "['False', 'None', 'True', 'and', 'as', 'assert', 'async', 'await', 'break', 'class', 'continue', 'def', 'del', 'elif', 'else', 'except', 'finally', 'for', 'from', 'global', 'if', 'import', 'in', 'is', 'lambda', 'nonlocal', 'not', 'or', 'pass', 'raise', 'return', 'try', 'while', 'with', 'yield']\n"
          ]
        }
      ]
    },
    {
      "cell_type": "code",
      "source": [
        "len(keyword.kwlist)"
      ],
      "metadata": {
        "colab": {
          "base_uri": "https://localhost:8080/"
        },
        "id": "bNTEOvk4vC7m",
        "outputId": "84b42dc4-d6af-4447-f17e-0b3098b0fc31"
      },
      "execution_count": 11,
      "outputs": [
        {
          "output_type": "execute_result",
          "data": {
            "text/plain": [
              "35"
            ]
          },
          "metadata": {},
          "execution_count": 11
        }
      ]
    },
    {
      "cell_type": "markdown",
      "source": [
        "## Tipos de datos y variables Python"
      ],
      "metadata": {
        "id": "p6ia1SlCv0tZ"
      }
    },
    {
      "cell_type": "markdown",
      "source": [
        "1. Numeros enteros\n",
        "2. Numeros decimales\n",
        "3. Cadenas de texto.\n",
        "4. Boleanos"
      ],
      "metadata": {
        "id": "JlgK6YGwwEQt"
      }
    },
    {
      "cell_type": "markdown",
      "source": [
        "###Numeros enteros(int)"
      ],
      "metadata": {
        "id": "ShTcLXGZwNxv"
      }
    },
    {
      "cell_type": "code",
      "source": [
        "2+2"
      ],
      "metadata": {
        "colab": {
          "base_uri": "https://localhost:8080/"
        },
        "id": "TWWDkeFTw3LW",
        "outputId": "4e4a3aa0-c9b4-4e59-cd14-166fd36b440a"
      },
      "execution_count": 12,
      "outputs": [
        {
          "output_type": "execute_result",
          "data": {
            "text/plain": [
              "4"
            ]
          },
          "metadata": {},
          "execution_count": 12
        }
      ]
    },
    {
      "cell_type": "code",
      "source": [
        "x= 3\n",
        "y= 5\n",
        "r= x+y\n",
        "print(r)"
      ],
      "metadata": {
        "colab": {
          "base_uri": "https://localhost:8080/"
        },
        "id": "okiBUYBfw53k",
        "outputId": "538ba798-8cc0-46cf-e1a8-24a01116760c"
      },
      "execution_count": 13,
      "outputs": [
        {
          "output_type": "stream",
          "name": "stdout",
          "text": [
            "8\n"
          ]
        }
      ]
    },
    {
      "cell_type": "markdown",
      "source": [
        "## Condicionales if-else"
      ],
      "metadata": {
        "id": "79C940UPxWDm"
      }
    },
    {
      "cell_type": "code",
      "source": [
        "#Se usan para evaluar condiciones, para que la condicion obtenga un resultadoverdadero o falso."
      ],
      "metadata": {
        "id": "7jHqOhQRxcID"
      },
      "execution_count": 14,
      "outputs": []
    },
    {
      "cell_type": "code",
      "source": [
        "edad = 25"
      ],
      "metadata": {
        "id": "ifqmbdfrxzdO"
      },
      "execution_count": 17,
      "outputs": []
    },
    {
      "cell_type": "code",
      "source": [
        "if edad >= 18:\n",
        "  print(\"Contratado\")\n",
        "else:\n",
        "    print(\"No contratado\")\n"
      ],
      "metadata": {
        "colab": {
          "base_uri": "https://localhost:8080/"
        },
        "id": "4-8VHEwsxp1t",
        "outputId": "3df7c71b-3942-477f-fa02-79cefe56799f"
      },
      "execution_count": 18,
      "outputs": [
        {
          "output_type": "stream",
          "name": "stdout",
          "text": [
            "Contratado\n"
          ]
        }
      ]
    },
    {
      "cell_type": "code",
      "source": [
        "ventas= 10000\n",
        "porcentaje= 0.05\n",
        "\n",
        "if ventas >= 500:\n",
        "  comision= ventas*porcentaje\n",
        "  print(f'La venta es de {ventas}, para que reciba una comision {comision}')\n",
        "else:\n",
        "  print(\"No vendio lo suficiente\")"
      ],
      "metadata": {
        "colab": {
          "base_uri": "https://localhost:8080/"
        },
        "id": "5lz4ae02ycTu",
        "outputId": "feb6f3d1-f5c6-4c9c-e3f1-51dedfa0bd3a"
      },
      "execution_count": 20,
      "outputs": [
        {
          "output_type": "stream",
          "name": "stdout",
          "text": [
            "La venta es de 10000, para qie reciba una comision 500.0\n"
          ]
        }
      ]
    },
    {
      "cell_type": "markdown",
      "source": [
        "### if - elif- else"
      ],
      "metadata": {
        "id": "Sjca-RMQzf6m"
      }
    },
    {
      "cell_type": "markdown",
      "source": [
        "\n",
        "\n",
        "0 a 3 = Bebe\n",
        "4 a 13 = Niño\n",
        "14 a 17= Adolecente\n",
        "19 a 29= Joven\n",
        "30 a 59= Adulto\n",
        ">= 60 = AM\n"
      ],
      "metadata": {
        "id": "i-K1WuvjzvTm"
      }
    },
    {
      "cell_type": "code",
      "source": [
        "edad_p= int(input(\"Ingresa la edad:  \"))\n",
        "\n",
        "if edad_p >0 and edad_p <= 4:\n",
        "  print(\"Es un bb\")\n",
        "\n",
        "elif edad_p >=4 and edad_p <= 13:\n",
        "  print(\"Es un niño\")\n",
        "\n",
        "elif edad_p >=14 and edad_p <= 17:\n",
        "  print(\"Es un adolecente\")\n",
        "\n",
        "elif edad_p >=18 and edad_p <= 29:\n",
        "  print(\"Es un joven\")\n",
        "\n",
        "elif edad_p >=30 and edad_p <= 59:\n",
        "  print(\"Es un Adulto\")\n",
        "\n",
        "elif edad_p >=60:\n",
        "  print(\"Es un AM\")\n",
        "\n",
        "else:\n",
        "  print(\"Error de edad\")"
      ],
      "metadata": {
        "colab": {
          "base_uri": "https://localhost:8080/"
        },
        "id": "X-IwDTEezS1L",
        "outputId": "7e08914c-1bf4-45a2-afca-b7e5a14cd6cc"
      },
      "execution_count": 27,
      "outputs": [
        {
          "output_type": "stream",
          "name": "stdout",
          "text": [
            "Ingresa la edad:  59\n",
            "Es un Adulto\n"
          ]
        }
      ]
    },
    {
      "cell_type": "markdown",
      "source": [
        "##Calculo de comisiones de ventas para autos\n",
        "\n",
        "### Basico 0 USD hasta 2,000 USD 2.5%\n",
        "### Intermedio 2,000.01 hasta 10,000 5%\n",
        "###Lujo >= 10,000.01"
      ],
      "metadata": {
        "id": "-MPChxn53bE6"
      }
    },
    {
      "cell_type": "code",
      "source": [
        "valor_venta= float(input(\"Ingresa el valor del auto:   \"))\n",
        "\n",
        "if valor_venta> 0 and valor_venta<= 2000:\n",
        "  comision= valor_venta*0.025\n",
        "  print(f'La venta es de {valor_venta}, la comision es de {comision}')\n",
        "\n",
        "elif valor_venta> 2000.01 and valor_venta<= 10000:\n",
        "  comision= valor_venta*0.05\n",
        "  print(f'La venta es de {valor_venta}, la comision es de {comision}')\n",
        "\n",
        "else:\n",
        "   comision= valor_venta*0.10\n",
        "   print(f'La venta es de {valor_venta}, la comision es de {comision}')\n",
        "\n",
        "\n"
      ],
      "metadata": {
        "colab": {
          "base_uri": "https://localhost:8080/"
        },
        "id": "Crl8ldPr1i8A",
        "outputId": "5b16a67d-9a20-4041-e9d9-050dcd151599"
      },
      "execution_count": 30,
      "outputs": [
        {
          "output_type": "stream",
          "name": "stdout",
          "text": [
            "Ingresa el valor del auto:   11000\n",
            "La venta es de 11000.0, la comision es de 1100.0\n"
          ]
        }
      ]
    }
  ]
}