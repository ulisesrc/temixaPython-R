{
  "nbformat": 4,
  "nbformat_minor": 0,
  "metadata": {
    "colab": {
      "provenance": [],
      "toc_visible": true,
      "authorship_tag": "ABX9TyPzNsNoljirbp2sw5Zt7vCr",
      "include_colab_link": true
    },
    "kernelspec": {
      "name": "python3",
      "display_name": "Python 3"
    },
    "language_info": {
      "name": "python"
    }
  },
  "cells": [
    {
      "cell_type": "markdown",
      "metadata": {
        "id": "view-in-github",
        "colab_type": "text"
      },
      "source": [
        "<a href=\"https://colab.research.google.com/github/ulisesrc/temixaPython-R/blob/main/Temixa_01.ipynb\" target=\"_parent\"><img src=\"https://colab.research.google.com/assets/colab-badge.svg\" alt=\"Open In Colab\"/></a>"
      ]
    },
    {
      "cell_type": "markdown",
      "source": [
        "# Python"
      ],
      "metadata": {
        "id": "LYCiqzEIp_7h"
      }
    },
    {
      "cell_type": "markdown",
      "source": [
        "[python.org](https://www.python.org)"
      ],
      "metadata": {
        "id": "RY5afNm6qMdI"
      }
    },
    {
      "cell_type": "markdown",
      "source": [
        "Documentacion python en español: [docs.python.org/es/3/](https://docs.python.org/es/3/)"
      ],
      "metadata": {
        "id": "CLHeP20xqh9t"
      }
    },
    {
      "cell_type": "markdown",
      "source": [
        "## Primeras instrucciones Python"
      ],
      "metadata": {
        "id": "FvJWWg15tYGx"
      }
    },
    {
      "cell_type": "code",
      "source": [
        "!python --version"
      ],
      "metadata": {
        "colab": {
          "base_uri": "https://localhost:8080/"
        },
        "id": "vzfBZqsntifc",
        "outputId": "eb5653bc-3889-4039-d552-e7688e15c125"
      },
      "execution_count": 1,
      "outputs": [
        {
          "output_type": "stream",
          "name": "stdout",
          "text": [
            "Python 3.10.12\n"
          ]
        }
      ]
    },
    {
      "cell_type": "code",
      "source": [
        "saludos= \"¡Hola!\""
      ],
      "metadata": {
        "id": "fX-aSs2ntpFf"
      },
      "execution_count": 3,
      "outputs": []
    },
    {
      "cell_type": "code",
      "source": [
        "print (saludos)"
      ],
      "metadata": {
        "colab": {
          "base_uri": "https://localhost:8080/"
        },
        "id": "hc8Q0HBvuR6-",
        "outputId": "5eb6f092-a7d1-4d41-98ca-eb0b450af84a"
      },
      "execution_count": 6,
      "outputs": [
        {
          "output_type": "stream",
          "name": "stdout",
          "text": [
            "¡Hola!\n"
          ]
        }
      ]
    },
    {
      "cell_type": "code",
      "source": [],
      "metadata": {
        "id": "rumfxOWKubuG"
      },
      "execution_count": null,
      "outputs": []
    },
    {
      "cell_type": "markdown",
      "source": [
        "Palabras Reservadas"
      ],
      "metadata": {
        "id": "OKvRcHp2uubo"
      }
    },
    {
      "cell_type": "code",
      "source": [
        "import keyword #importamos libreria"
      ],
      "metadata": {
        "id": "0CVJNaHHuzlD"
      },
      "execution_count": 9,
      "outputs": []
    },
    {
      "cell_type": "code",
      "source": [
        "print(keyword.kwlist)"
      ],
      "metadata": {
        "colab": {
          "base_uri": "https://localhost:8080/"
        },
        "id": "YeK5US0xu4aW",
        "outputId": "f0e667fa-1155-418d-cf1f-bd5db479a5b4"
      },
      "execution_count": 10,
      "outputs": [
        {
          "output_type": "stream",
          "name": "stdout",
          "text": [
            "['False', 'None', 'True', 'and', 'as', 'assert', 'async', 'await', 'break', 'class', 'continue', 'def', 'del', 'elif', 'else', 'except', 'finally', 'for', 'from', 'global', 'if', 'import', 'in', 'is', 'lambda', 'nonlocal', 'not', 'or', 'pass', 'raise', 'return', 'try', 'while', 'with', 'yield']\n"
          ]
        }
      ]
    },
    {
      "cell_type": "code",
      "source": [],
      "metadata": {
        "id": "bNTEOvk4vC7m"
      },
      "execution_count": null,
      "outputs": []
    }
  ]
}